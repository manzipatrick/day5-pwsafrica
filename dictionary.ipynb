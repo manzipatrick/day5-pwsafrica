{
 "cells": [
  {
   "cell_type": "code",
   "execution_count": 91,
   "metadata": {},
   "outputs": [],
   "source": [
    "#Calculate the average for everyone and store it in a new dictionary\n",
    "students = {'Sofiat': [56,89,70,92,67,100], 'Fionnuala':[60,70,100,45,70,76],'Alex':[60,95,90,85,93,45],'Ify': [55,80,56,45,51,76],'John Paul':[78,100,65,77,91,87],'Ben': [45,78,65,50,45,87],'Tom':[32,50,45,67,40,80]}\n",
    "\n",
    "def findAverage(list1):\n",
    "    total=0\n",
    "    for n in list1:\n",
    "        total+=n\n",
    "        number= len(list1)\n",
    "        average=total/number\n",
    "    return average"
   ]
  },
  {
   "cell_type": "code",
   "execution_count": 101,
   "metadata": {},
   "outputs": [
    {
     "name": "stdout",
     "output_type": "stream",
     "text": [
      "79.0\n",
      "70.16666666666667\n",
      "78.0\n",
      "60.5\n",
      "83.0\n",
      "61.666666666666664\n",
      "52.333333333333336\n",
      "{'Sofiat': 79.0, 'Fionnuala': 70.16666666666667, 'Alex': 78.0, 'Ify': 60.5, 'John Paul': 83.0, 'Ben': 61.666666666666664, 'Tom': 52.333333333333336}\n"
     ]
    }
   ],
   "source": [
    "newdict={}\n",
    "for name in students:\n",
    "    favg= findAverage(students[name])\n",
    "    #how to add items into a dictionary\n",
    "    newdict[name]=favg\n",
    "    print(favg)\n",
    "print(newdict)"
   ]
  },
  {
   "cell_type": "code",
   "execution_count": 179,
   "metadata": {},
   "outputs": [
    {
     "name": "stdout",
     "output_type": "stream",
     "text": [
      "{'from': 1, 'fairest': 1, 'creatures': 1, 'we': 1, 'desire': 1, 'increase': 1, 'that': 1, 'thereby': 1, 'beauty': 1, 'rose': 1, 'might': 2, 'never': 1, 'die': 1, 'but': 2, 'as': 1, 'the': 1, 'riper': 1, 'should': 1, 'by': 1, 'time': 1, 'decease': 1, 'his': 2, 'tender': 1, 'heir': 1, 'bear': 1, 'memory': 1, 'thou': 1, 'contracted': 1, 'to': 2, 'thine': 1, 'own': 1, 'bright': 1, 'eyes': 1, 'feed': 1, 'thy': 3, 'light': 1, 'flame': 1, 'with': 1, 'self-substantial': 1, 'fuel': 1, 'making': 1, 'a': 1, 'famine': 1, 'where': 1, 'abundance': 1, 'lies': 1, 'thyself': 1, 'foe': 1, 'sweet': 1, 'self': 1, 'too': 1, 'cruel': 1}\n"
     ]
    }
   ],
   "source": [
    "#Problem 7. Count the word frequencies in this sentence and store it\n",
    "#in a dictionary.\n",
    "#sonnet1 = [’from’, ’fairest’, ’creatures’, ’we’, ’desire’, ’\n",
    "#increase’,’that’, ’thereby’, ’beauty’,’rose’, ’might’,’\n",
    "#never’, ’die’,’but’,’as’, ’the’, ’riper’, ’should’, ’by’,\n",
    "#’time’, ’decease’,’his’, ’tender’, ’heir’, ’might’, ’\n",
    "#bear’, ’his’, ’memory’,’but’,’thou’, ’contracted’, ’to’,\n",
    "#’thine’, ’own’, ’bright’,’eyes’,’feed’,’thy’,’light’, ’\n",
    "#flame’, ’with’,’self-substantial’,’fuel’,’making’,’a’,’\n",
    "#famine’,’where’, ’abundance’,’lies’,’thyself’,’thy’,’foe’\n",
    "#, ’to’, ’thy’, ’sweet’, ’self’, ’too’, ’cruel’]\n",
    "\n",
    "sonnet1 = ['from', 'fairest', 'creatures', 'we', 'desire', 'increase','that', 'thereby', 'beauty','rose', 'might','never', 'die','but','as', 'the', 'riper', 'should', 'by','time', 'decease','his', 'tender', 'heir', 'might', 'bear', 'his', 'memory','but','thou', 'contracted', 'to','thine', 'own', 'bright','eyes','feed','thy','light', 'flame', 'with','self-substantial','fuel','making','a','famine','where', 'abundance','lies','thyself','thy','foe', 'to', 'thy', 'sweet', 'self', 'too', 'cruel']\n",
    "\n",
    "newdict = {}\n",
    "for word in sonnet1:\n",
    "    if word in newdict:\n",
    "        #why do we need to increment then we should incr frequency okay i will take time to under\n",
    "        newdict[word]+=1\n",
    "    else:\n",
    "        newdict[word]=1\n",
    "\n",
    "print(newdict)\n",
    "#this is not clear 100% u cant think of this trust me\n",
    "#thats fine\n",
    "#imma not a fast learner\n",
    "\n",
    "        \n"
   ]
  },
  {
   "cell_type": "code",
   "execution_count": 191,
   "metadata": {},
   "outputs": [
    {
     "name": "stdout",
     "output_type": "stream",
     "text": [
      "GDP of Rwanda : 30\n",
      "------------------------------------\n",
      "capital of zimbabwe : Harare\n",
      "------------------------------------\n",
      "kenya population : 49\n",
      "------------------------------------\n",
      "ugandas neighbours : ['Rwanda', 'Kenya', 'Tanzania', 'Sudan', 'DRC']\n",
      ".............................\n",
      "Rwanda\n",
      "Kenya\n",
      "Tanzania\n",
      "Sudan\n",
      "DRC\n",
      ".............................\n"
     ]
    }
   ],
   "source": [
    "countriesDict = {'Zimbabwe': {'capital': 'Harare', 'population': 16, 'neighbours': ['South Africa', 'Botswana', 'Zambia', 'Mozambique'], 'GDP': 41}, 'Rwanda':{'capital':'Kigali','population': 11, 'neighbours':['DRC','Uganda', 'Tanzania', 'Burundi'],'GDP': 30}, 'Nigeria': {'capital':'Abuja', 'population': 200, 'neighbours': ['Cameroon','Benin', 'Chad', 'Niger'], 'GDP':1221},'Uganda': {'capital': 'Kampala', 'population':41, 'neighbours':['Rwanda', 'Kenya','Tanzania','Sudan','DRC'],'GDP': 102}, 'Kenya':{'capital': 'Nairobi', 'population': 49, 'neighbours': ['Tanzania', 'Uganda', 'Sudan', 'Somalia', 'Ethiopia'], 'GDP':190 } }\n",
    "\n",
    "#Print the GDP of Rwanda\n",
    "gdpofrwanda = countriesDict['Rwanda']['GDP']\n",
    "print(\"GDP of Rwanda : \" + str(gdpofrwanda))\n",
    "print(\"------------------------------------\")\n",
    "#should i do it this way?\n",
    "#What’s the capital of Zimbabwe?\n",
    "zimbabwecapital= countriesDict['Zimbabwe']['capital']\n",
    "print(\"capital of zimbabwe : \" + str(zimbabwecapital))\n",
    "print(\"------------------------------------\")\n",
    "\n",
    "#What’s the population of Kenya?\n",
    "kenyapopulation=countriesDict['Kenya']['population']\n",
    "print(\"kenya population : \" + str(kenyapopulation))\n",
    "print(\"------------------------------------\")\n",
    "\n",
    "#Print out Uganda’s neighbours? \n",
    "ugandaneighbours=countriesDict['Uganda']['neighbours']\n",
    "print(\"ugandas neighbours : \" + str(ugandaneighbours))\n",
    "print('.............................')\n",
    "\n",
    "for n in ugandaneighbours:\n",
    "    print(n)\n",
    "\n",
    "print('.............................')\n",
    "\n"
   ]
  },
  {
   "cell_type": "code",
   "execution_count": 192,
   "metadata": {
    "scrolled": true
   },
   "outputs": [
    {
     "ename": "FileNotFoundError",
     "evalue": "[Errno 2] No such file or directory: 'phonebook.txt'",
     "output_type": "error",
     "traceback": [
      "\u001b[1;31m---------------------------------------------------------------------------\u001b[0m",
      "\u001b[1;31mFileNotFoundError\u001b[0m                         Traceback (most recent call last)",
      "\u001b[1;32m<ipython-input-192-e14c7fab5cf9>\u001b[0m in \u001b[0;36m<module>\u001b[1;34m\u001b[0m\n\u001b[0;32m      1\u001b[0m \u001b[1;31m#reading from a file\u001b[0m\u001b[1;33m\u001b[0m\u001b[1;33m\u001b[0m\u001b[1;33m\u001b[0m\u001b[0m\n\u001b[0;32m      2\u001b[0m \u001b[0mmyfile\u001b[0m\u001b[1;33m=\u001b[0m \u001b[1;34m\"phonebook.txt\"\u001b[0m\u001b[1;33m\u001b[0m\u001b[1;33m\u001b[0m\u001b[0m\n\u001b[1;32m----> 3\u001b[1;33m \u001b[1;32mwith\u001b[0m \u001b[0mopen\u001b[0m\u001b[1;33m(\u001b[0m\u001b[0mmyfile\u001b[0m\u001b[1;33m,\u001b[0m\u001b[1;34m'r'\u001b[0m\u001b[1;33m)\u001b[0m \u001b[1;32mas\u001b[0m \u001b[0mf\u001b[0m\u001b[1;33m:\u001b[0m\u001b[1;33m\u001b[0m\u001b[1;33m\u001b[0m\u001b[0m\n\u001b[0m\u001b[0;32m      4\u001b[0m     \u001b[0mtext\u001b[0m\u001b[1;33m=\u001b[0m \u001b[0mf\u001b[0m\u001b[1;33m.\u001b[0m\u001b[0mreadlines\u001b[0m\u001b[1;33m(\u001b[0m\u001b[1;33m)\u001b[0m\u001b[1;33m\u001b[0m\u001b[1;33m\u001b[0m\u001b[0m\n\u001b[0;32m      5\u001b[0m     \u001b[0mprint\u001b[0m\u001b[1;33m(\u001b[0m\u001b[0mtext\u001b[0m\u001b[1;33m)\u001b[0m\u001b[1;33m\u001b[0m\u001b[1;33m\u001b[0m\u001b[0m\n",
      "\u001b[1;31mFileNotFoundError\u001b[0m: [Errno 2] No such file or directory: 'phonebook.txt'"
     ]
    }
   ],
   "source": [
    "#reading from a file\n",
    "myfile= \"phonebook.txt\"\n",
    "with open(myfile,'r') as f:\n",
    "    text= f.readlines()\n",
    "    print(text)"
   ]
  },
  {
   "cell_type": "code",
   "execution_count": null,
   "metadata": {},
   "outputs": [],
   "source": []
  },
  {
   "cell_type": "code",
   "execution_count": null,
   "metadata": {},
   "outputs": [],
   "source": []
  },
  {
   "cell_type": "code",
   "execution_count": null,
   "metadata": {},
   "outputs": [],
   "source": []
  }
 ],
 "metadata": {
  "kernelspec": {
   "display_name": "Python 3",
   "language": "python",
   "name": "python3"
  },
  "language_info": {
   "codemirror_mode": {
    "name": "ipython",
    "version": 3
   },
   "file_extension": ".py",
   "mimetype": "text/x-python",
   "name": "python",
   "nbconvert_exporter": "python",
   "pygments_lexer": "ipython3",
   "version": "3.7.3"
  }
 },
 "nbformat": 4,
 "nbformat_minor": 2
}
